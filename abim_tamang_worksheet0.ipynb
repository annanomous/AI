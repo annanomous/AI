{
  "nbformat": 4,
  "nbformat_minor": 0,
  "metadata": {
    "colab": {
      "provenance": []
    },
    "kernelspec": {
      "name": "python3",
      "display_name": "Python 3"
    },
    "language_info": {
      "name": "python"
    }
  },
  "cells": [
    {
      "cell_type": "code",
      "execution_count": null,
      "metadata": {
        "id": "kpPVZVkG-ndj"
      },
      "outputs": [],
      "source": []
    },
    {
      "cell_type": "code",
      "source": [
        "def longest_common_subsequence(s1,s2):\n",
        "  m,n=len(s1),len(s2)\n",
        "\n",
        "  dp = [[0] * (n + 1) for _ in range(m+1)]\n",
        "\n",
        "  for i in range(1,m+1):\n",
        "    for j in range(1,n+1):\n",
        "      if s1[i-1] == s2[j-1]:\n",
        "       dp [i][j] = dp [i -1][j-1]+1\n",
        "      else:\n",
        "        dp[i][j] =max(dp[i -1][j],dp[i][j-1])\n",
        "\n",
        "\n",
        "  return dp[m][n]\n",
        "\n",
        "\n",
        "  s1 = \"abcde\"\n",
        "  s2 = \"ace\"\n",
        "  print(\"length of LCS :\", longest_common_subsequence(s1,s2))\n",
        "\n",
        "\n",
        "  s1=\"abc\"\n",
        "  s2 = \"def\"\n",
        "  print(\"length of LCS : \", longest_common_subsequence(s1,s2))\n",
        "\n",
        "\n",
        "\n",
        "\n",
        "\n",
        "0"
      ],
      "metadata": {
        "id": "HsIbSyiwPt1A"
      },
      "execution_count": 5,
      "outputs": []
    },
    {
      "cell_type": "code",
      "source": [
        "def knapsack(weights,values,capacity):\n",
        "  n = len(weights)\n",
        "  dp = [[0]* (capacity +1) for _ in range(n+1)]\n",
        "\n",
        "  for i in range(1,n+1):\n",
        "    for w in range (1, capacity +1 ):\n",
        "      if weights [i -1] <= w:\n",
        "        dp[i][w] = max(dp[i-1][w], dp[i-1][w - weights[i-1]]+ values[i-1])\n",
        "      else :\n",
        "        dp[i][w] =dp[i-1][w]\n",
        "        return dp[n][capacity]\n",
        "\n",
        "        weights =[1,3,4,5]\n",
        "        values = [ 1,4,5,7]\n",
        "        capacity =7\n",
        "        print(\"maxinum value: \" ,knapsack(weights ,values , capacity))"
      ],
      "metadata": {
        "id": "NpHRW7SXT1_S"
      },
      "execution_count": 8,
      "outputs": []
    },
    {
      "cell_type": "code",
      "source": [
        "def min_coins(coins,amount):\n",
        "\n",
        "  dp=[float('inf')]*(amount+1)\n",
        "  dp[0]=0\n",
        "\n",
        "  for coin in coins:\n",
        "    for i in range(coin,amount +1):\n",
        "      dp[i] = min(dp[i],dp[i -coin]+1)\n",
        "  return dp[amount] if dp[amount] != float('inf') else-1\n",
        "\n",
        "  coins = [1,2,5]\n",
        "  amounnt = 11\n",
        "  print(min_coins(coins,amount))"
      ],
      "metadata": {
        "id": "TPSzYfm-Pu_t"
      },
      "execution_count": 1,
      "outputs": []
    },
    {
      "cell_type": "code",
      "source": [
        "def sum_nested_list(nested_list):\n",
        "  total = 0\n",
        "  for item in nested_list:\n",
        "    if isinstance(item, list):\n",
        "      total +=sum_nested_list(item)\n",
        "    else:\n",
        "      total += item\n",
        "  return total\n",
        "nested_list = [1, [2, [3, 4], 5], 6, [7, 8]]\n",
        "result =  sum_nested_list(nested_list)\n",
        "print(result)"
      ],
      "metadata": {
        "colab": {
          "base_uri": "https://localhost:8080/"
        },
        "id": "jrWFDYcS-puP",
        "outputId": "5909154c-a5db-45e3-9351-daaddebf2c4a"
      },
      "execution_count": null,
      "outputs": [
        {
          "output_type": "stream",
          "name": "stdout",
          "text": [
            "36\n"
          ]
        }
      ]
    },
    {
      "cell_type": "code",
      "source": [
        "temperatures = [5,23,28,22,8,14,19,10,15,17]\n",
        "\n",
        "cold = []\n",
        "mild = []\n",
        "comfortable= []\n",
        "\n",
        "for temp in temperatures:\n",
        "  if temp <10 :\n",
        "    cold.append(temp)\n",
        "  elif 10<=temp <=15:\n",
        "    mild.append(temp)\n",
        "  elif 15<temp <=20:\n",
        "    comfortable.append(temp)\n",
        "\n",
        "print(\"cold :\" ,cold)\n",
        "print(\"mild:\", mild)\n",
        "print(\"comfortable:\" ,comfortable)"
      ],
      "metadata": {
        "colab": {
          "base_uri": "https://localhost:8080/"
        },
        "id": "OsJjmCz7BBfr",
        "outputId": "488d556f-10c2-4f9c-dcdc-ca49d838e33a"
      },
      "execution_count": null,
      "outputs": [
        {
          "output_type": "stream",
          "name": "stdout",
          "text": [
            "cold : [5, 8]\n",
            "mild: [14, 10, 15]\n",
            "comfortable: [19, 17]\n"
          ]
        }
      ]
    },
    {
      "cell_type": "code",
      "source": [
        "temperatures = [5,23,28,22,8,14,19,10,15,17]\n",
        "\n",
        "temperatures_fehrenheit = []\n",
        "\n",
        "for temp in temperatures:\n",
        "  fehrenheit = (temp * 9/5) + 32\n",
        "  temperatures_fehrenheit.append(fehrenheit)\n",
        "\n",
        "print(\"temperatures in fehrenheit\")\n"
      ],
      "metadata": {
        "id": "-yR3i5cgYkyi"
      },
      "execution_count": null,
      "outputs": []
    },
    {
      "cell_type": "code",
      "source": [
        "\n",
        "temperatures = [5, 6, 7, 8, 10, 12, 14, 16, 18, 20, 22, 21, 19, 18, 16, 15, 14, 12, 10, 8, 6, 4, 3, 2]\n",
        "\n",
        "day_temp= []\n",
        "night_temp=[]\n",
        "evening_temp=[]\n",
        "for hour,temp in enumerate(temperatures):\n",
        "  if 0<=hour<=7:\n",
        "    night_temp.append(temp)\n",
        "  elif 8<=hour<=15:\n",
        "    day_temp.append(temp)\n",
        "  elif 16<=hour <=23:\n",
        "    evening_temp.append(temp)\n",
        "\n",
        "average_day_temp = sum(day_temp)/len(day_temp) if day_temp else 0\n",
        "print(f\"average daytime temperature : {average_day_temp :.2f}C\")\n",
        "print(\"night temperatures(00:00 - 8:00) :\",night_temp)\n",
        "print(\"evening temperatures(08:00 - 16:00):\",evening_temp)\n",
        "print(\"day temperatures (16:00-24:00):\",day_temp)\n",
        "\n"
      ],
      "metadata": {
        "colab": {
          "base_uri": "https://localhost:8080/",
          "height": 556
        },
        "id": "U_Exf5cLZl2Z",
        "outputId": "0654c386-196a-471e-de83-48384c6d221f"
      },
      "execution_count": null,
      "outputs": [
        {
          "output_type": "stream",
          "name": "stdout",
          "text": [
            "average daytime temperature : 18.62C\n"
          ]
        },
        {
          "output_type": "display_data",
          "data": {
            "text/plain": [
              "<Figure size 800x500 with 1 Axes>"
            ],
            "image/png": "[encoded data removed]"
          },
          "metadata": {}
        },
        {
          "output_type": "stream",
          "name": "stdout",
          "text": [
            "night temperatures(00:00 - 8:00) : [5, 6, 7, 8, 10, 12, 14, 16]\n",
            "evening temperatures(08:00 - 16:00): [14, 12, 10, 8, 6, 4, 3, 2]\n",
            "day temperatures (16:00-24:00): [18, 20, 22, 21, 19, 18, 16, 15]\n"
          ]
        }
      ]
    },
    {
      "cell_type": "code",
      "source": [
        "def generate_permutatuion(s):\n",
        "\n",
        "  if len(s)<=1:\n",
        "    return[s]\n",
        "\n",
        "  permutation = []\n",
        "\n",
        "  for i in range(len(s)):\n",
        "    current_char=s[i]\n",
        "\n",
        "    remaining_string = s[:i] + s[i+1:]\n",
        "\n",
        "    for perm in generate_permutatuion(remaining_string):\n",
        "      permutation.append(current_char+perm)\n",
        "\n",
        "  return permutation\n",
        "\n",
        "print(\"permmutation of 'abc' :\" ,generate_permutatuion(\"abc\"))\n",
        "\n",
        "print(\"permmutation of 'aab' :\" ,generate_permutatuion(\"aab\"))"
      ],
      "metadata": {
        "colab": {
          "base_uri": "https://localhost:8080/"
        },
        "id": "9wSu8VH53Y4O",
        "outputId": "c42b5138-71a6-4858-da0d-0aa68c1959e4"
      },
      "execution_count": null,
      "outputs": [
        {
          "output_type": "stream",
          "name": "stdout",
          "text": [
            "permmutation of 'abc' : ['abc', 'acb', 'bac', 'bca', 'cab', 'cba']\n",
            "permmutation of 'aab' : ['aab', 'aba', 'aab', 'aba', 'baa', 'baa']\n"
          ]
        }
      ]
    },
    {
      "cell_type": "code",
      "source": [
        "def calculated_directory_size(directory):\n",
        "  return sum(calculated_directory_size(v) if isinstance(v,dict) else v for v in directory.values())\n",
        "directory_structure = {\n",
        "      \"file.txt\":50,\n",
        "      \"file2.txt\":30,\n",
        "      \"subdir1\":{\n",
        "          \"file3.txt\":20,\n",
        "          \"subdiry2\":{\n",
        "              \"file4.txt\":40,\n",
        "\n",
        "          },\n",
        "      },\n",
        "      \"file.txt\":60,\n",
        "  }\n",
        "print(f\"total size of the directory : {calculated_directory_size( directory_structure)}KB\")"
      ],
      "metadata": {
        "colab": {
          "base_uri": "https://localhost:8080/"
        },
        "id": "ByxON0695TO4",
        "outputId": "62a1555f-3a85-458a-abbe-dd4b4e4a12ac"
      },
      "execution_count": null,
      "outputs": [
        {
          "output_type": "stream",
          "name": "stdout",
          "text": [
            "total size of the directory : 150KB\n"
          ]
        }
      ]
    }
  ]
}